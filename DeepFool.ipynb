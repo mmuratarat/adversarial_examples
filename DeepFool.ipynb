{
 "cells": [
  {
   "cell_type": "code",
   "execution_count": 1,
   "metadata": {},
   "outputs": [
    {
     "name": "stdout",
     "output_type": "stream",
     "text": [
      "Tensorflow version:  2.1.0\n",
      "(60000, 28, 28, 1)\n",
      "(60000,)\n",
      "(10000, 28, 28, 1)\n",
      "(10000,)\n",
      "(60000, 10)\n",
      "(10000, 10)\n"
     ]
    }
   ],
   "source": [
    "import tensorflow as tf\n",
    "print(\"Tensorflow version: \", tf.__version__)\n",
    "tf.keras.backend.set_floatx('float32')\n",
    "import copy\n",
    "import numpy as np\n",
    "import matplotlib.pyplot as plt\n",
    "%matplotlib inline\n",
    "\n",
    "mnist = tf.keras.datasets.mnist\n",
    "\n",
    "(x_train, y_train), (x_test, y_test) = mnist.load_data()\n",
    "\n",
    "#Normalize the images, between 0  and 1\n",
    "x_train, x_test = x_train / 255.0 , x_test / 255.0 \n",
    "\n",
    "# Add a channels dimension\n",
    "x_train = x_train[..., tf.newaxis]\n",
    "x_test = x_test[..., tf.newaxis]\n",
    "\n",
    "x_train = tf.cast(x_train, tf.float32)\n",
    "x_test = tf.cast(x_test, tf.float32)\n",
    "    \n",
    "print(x_train.shape)\n",
    "#(60000, 28, 28, 1)\n",
    "\n",
    "print(y_train.shape)\n",
    "(60000,)\n",
    "\n",
    "print(x_test.shape)\n",
    "#(10000, 28, 28, 1)\n",
    "\n",
    "print(y_test.shape)\n",
    "#(10000,)\n",
    "\n",
    "num_class = 10\n",
    "\n",
    "# Convert labels to one hot encoded vectors.\n",
    "y_train_oh, y_test_oh = tf.keras.utils.to_categorical(y_train, num_classes= num_class, dtype='float32'), tf.keras.utils.to_categorical(y_test, num_classes= num_class, dtype='float32')\n",
    "\n",
    "print(y_train_oh.shape)\n",
    "#(60000, 10)\n",
    "print(y_test_oh.shape)\n",
    "#(10000, 10)\n",
    "\n",
    "batch_size = 32\n",
    "train_ds = tf.data.Dataset.from_tensor_slices((x_train, y_train_oh)).shuffle(60000).batch(batch_size)\n",
    "\n",
    "test_ds = tf.data.Dataset.from_tensor_slices((x_test, y_test_oh)).batch(batch_size)"
   ]
  },
  {
   "cell_type": "code",
   "execution_count": 2,
   "metadata": {},
   "outputs": [
    {
     "name": "stdout",
     "output_type": "stream",
     "text": [
      "Model: \"model\"\n",
      "_________________________________________________________________\n",
      "Layer (type)                 Output Shape              Param #   \n",
      "=================================================================\n",
      "input_1 (InputLayer)         [(None, 28, 28, 1)]       0         \n",
      "_________________________________________________________________\n",
      "conv2d (Conv2D)              (None, 28, 28, 32)        320       \n",
      "_________________________________________________________________\n",
      "activation (Activation)      (None, 28, 28, 32)        0         \n",
      "_________________________________________________________________\n",
      "conv2d_1 (Conv2D)            (None, 14, 14, 32)        9248      \n",
      "_________________________________________________________________\n",
      "activation_1 (Activation)    (None, 14, 14, 32)        0         \n",
      "_________________________________________________________________\n",
      "conv2d_2 (Conv2D)            (None, 14, 14, 64)        18496     \n",
      "_________________________________________________________________\n",
      "activation_2 (Activation)    (None, 14, 14, 64)        0         \n",
      "_________________________________________________________________\n",
      "conv2d_3 (Conv2D)            (None, 7, 7, 64)          36928     \n",
      "_________________________________________________________________\n",
      "activation_3 (Activation)    (None, 7, 7, 64)          0         \n",
      "_________________________________________________________________\n",
      "conv2d_4 (Conv2D)            (None, 7, 7, 64)          36928     \n",
      "_________________________________________________________________\n",
      "activation_4 (Activation)    (None, 7, 7, 64)          0         \n",
      "_________________________________________________________________\n",
      "conv2d_5 (Conv2D)            (None, 7, 7, 64)          36928     \n",
      "_________________________________________________________________\n",
      "activation_5 (Activation)    (None, 7, 7, 64)          0         \n",
      "_________________________________________________________________\n",
      "global_average_pooling2d (Gl (None, 64)                0         \n",
      "_________________________________________________________________\n",
      "dense (Dense)                (None, 32)                2080      \n",
      "_________________________________________________________________\n",
      "activation_6 (Activation)    (None, 32)                0         \n",
      "_________________________________________________________________\n",
      "dense_1 (Dense)              (None, 10)                330       \n",
      "=================================================================\n",
      "Total params: 141,258\n",
      "Trainable params: 141,258\n",
      "Non-trainable params: 0\n",
      "_________________________________________________________________\n"
     ]
    }
   ],
   "source": [
    "IMG_SIZE = (28, 28, 1)\n",
    "input_img = tf.keras.layers.Input(shape=IMG_SIZE)\n",
    "\n",
    "model = tf.keras.layers.Conv2D(32, (3, 3), padding='same')(input_img)\n",
    "model = tf.keras.layers.Activation('relu')(model)\n",
    "model = tf.keras.layers.Conv2D(32, (3, 3), padding='same', strides=(2, 2))(model)\n",
    "model = tf.keras.layers.Activation('relu')(model)\n",
    "\n",
    "model = tf.keras.layers.Conv2D(64, (3, 3), padding='same')(model)\n",
    "model = tf.keras.layers.Activation('relu')(model)\n",
    "model = tf.keras.layers.Conv2D(64, (3, 3), padding='same', strides=(2, 2))(model)\n",
    "model = tf.keras.layers.Activation('relu')(model)\n",
    "\n",
    "model = tf.keras.layers.Conv2D(64, (3, 3), padding='same')(model)\n",
    "model = tf.keras.layers.Activation('relu')(model)\n",
    "model = tf.keras.layers.Conv2D(64, (3, 3), padding='same')(model)\n",
    "model = tf.keras.layers.Activation('relu')(model)\n",
    "\n",
    "model = tf.keras.layers.GlobalAveragePooling2D()(model)\n",
    "model = tf.keras.layers.Dense(32)(model)\n",
    "model = tf.keras.layers.Activation('relu')(model)\n",
    "output_img = tf.keras.layers.Dense(10)(model)\n",
    "#output_img = tf.keras.layers.Activation('softmax')(model)\n",
    "\n",
    "model = tf.keras.models.Model(input_img, output_img)\n",
    "\n",
    "model.summary()"
   ]
  },
  {
   "cell_type": "code",
   "execution_count": 3,
   "metadata": {},
   "outputs": [
    {
     "name": "stdout",
     "output_type": "stream",
     "text": [
      "Train on 60000 samples, validate on 10000 samples\n",
      "Epoch 1/5\n",
      "60000/60000 [==============================] - 66s 1ms/sample - loss: 0.3052 - accuracy: 0.8982 - val_loss: 0.0714 - val_accuracy: 0.9769\n",
      "Epoch 2/5\n",
      "60000/60000 [==============================] - 60s 1000us/sample - loss: 0.0646 - accuracy: 0.9808 - val_loss: 0.0465 - val_accuracy: 0.9857\n",
      "Epoch 3/5\n",
      "60000/60000 [==============================] - 58s 974us/sample - loss: 0.0494 - accuracy: 0.9852 - val_loss: 0.0322 - val_accuracy: 0.9896\n",
      "Epoch 4/5\n",
      "60000/60000 [==============================] - 59s 976us/sample - loss: 0.0417 - accuracy: 0.9877 - val_loss: 0.0484 - val_accuracy: 0.9863\n",
      "Epoch 5/5\n",
      "60000/60000 [==============================] - 58s 971us/sample - loss: 0.0332 - accuracy: 0.9901 - val_loss: 0.0402 - val_accuracy: 0.9878\n"
     ]
    }
   ],
   "source": [
    "adam = tf.keras.optimizers.Adam(learning_rate=0.003)\n",
    "\n",
    "loss_object = tf.keras.losses.CategoricalCrossentropy(from_logits=True)\n",
    "# This function accepts one-hot encoded labels\n",
    "\n",
    "model.compile(adam, loss=loss_object, metrics=[\"accuracy\"])\n",
    "\n",
    "history = model.fit(x_train, y_train_oh, epochs=5, \n",
    "                    validation_data=(x_test,  y_test_oh))\n",
    "\n",
    "model.reset_metrics()\n",
    "\n",
    "# Save the model\n",
    "model.save('my_model_deepfool.h5')"
   ]
  },
  {
   "cell_type": "code",
   "execution_count": 4,
   "metadata": {},
   "outputs": [
    {
     "data": {
      "text/plain": [
       "<matplotlib.legend.Legend at 0x14524ff28>"
      ]
     },
     "execution_count": 4,
     "metadata": {},
     "output_type": "execute_result"
    },
    {
     "data": {
      "image/png": "[encoded data removed]",
      "text/plain": [
       "<Figure size 432x288 with 1 Axes>"
      ]
     },
     "metadata": {
      "needs_background": "light"
     },
     "output_type": "display_data"
    },
    {
     "data": {
      "image/png": "[encoded data removed]",
      "text/plain": [
       "<Figure size 432x288 with 1 Axes>"
      ]
     },
     "metadata": {
      "needs_background": "light"
     },
     "output_type": "display_data"
    }
   ],
   "source": [
    "plt.figure(1)\n",
    "plt.plot(history.history['accuracy'], label='accuracy')\n",
    "plt.plot(history.history['val_accuracy'], label='val_accuracy')\n",
    "plt.xlabel('Epoch')\n",
    "plt.ylabel('Accuracy')\n",
    "plt.ylim([0.7, 1])\n",
    "plt.legend(loc='best')\n",
    "\n",
    "plt.figure(2)\n",
    "plt.plot(history.history['loss'], label='loss')\n",
    "plt.plot(history.history['val_loss'], label='val_loss')\n",
    "plt.xlabel('Epoch')\n",
    "plt.ylabel('Loss')\n",
    "plt.legend(loc='best')"
   ]
  },
  {
   "cell_type": "code",
   "execution_count": 5,
   "metadata": {},
   "outputs": [
    {
     "name": "stdout",
     "output_type": "stream",
     "text": [
      "10000/10000 - 2s - loss: 0.0402 - accuracy: 0.9878\n",
      "\n",
      "Test accuracy = 98.78%\n"
     ]
    }
   ],
   "source": [
    "test_loss, test_accuracy = model.evaluate(x_test,  y_test_oh, verbose=2)\n",
    "\n",
    "print('\\nTest accuracy = {0:.2f}%'.format(test_accuracy*100.0))"
   ]
  },
  {
   "cell_type": "markdown",
   "metadata": {},
   "source": [
    "# DeepFool for multiclass classifiers\n",
    "\n",
    "ORIGINAL PAPER --> https://arxiv.org/pdf/1511.04599.pdf\n",
    "\n",
    "Deepfool is an untargeted attack technique optimized for the L2 distance metric.\n",
    "    \n",
    "The most common used scheme for multiclass classifiers is one-vs-all. In this scheme, the classifier has $c$ outputs where $c$ is the number of classes. Therefore, a classifier can be defined as $f : R^{n} \\rightarrow R^{c}$ and the classification is done by the following mapping:\n",
    "\n",
    "$$\n",
    "\\hat{k}(x) = \\underset{k}{\\mathrm{argmax}} f_{k}(x),\n",
    "$$\n",
    "\n",
    "where $f_{k}(x)$ is the output of $f(x)$ that corresponds to the $k$th class (logits for the $k$th class).\n",
    "\n",
    "![](deepfool_multiclass_case.png)\n",
    "\n",
    "Note that here, the output layer must be the final layer of the trained model right before the softmax.\n",
    "\n",
    "* 1. Input is an image $x$ and the classifier $f$, which is the model.\n",
    "* 2. The output which is the perturbation ($r_{total}$)\n",
    "* 3. [Blank]\n",
    "* 4. We initialize the perturbed image with the original image and the loop variable. ($X_{adv}$)\n",
    "* 5. We start the iteration and continue until the original label ($\\text{label}$) and the perturbed label ($k_{i}$) are not equal, i.e., ($k_{i} == \\text{label}$). In other words, The search terminates when a true adversarial example is found.\n",
    "* 6-9.  We consider n classes that had the most probability after the original class and we store the minimum difference between the original gradients along with the gradients of each of these classes ($w_{k}$) and the difference in the labels ($f_{k}$).\n",
    "* 10. The inner loop stores the minimum $w_{k}$ and $f_{k}$, and using this we calculate the closest hyperplane for the input $x$ (See the formula below how to calculate the closest hyperplane)\n",
    "* 11. We calculate the minimal vector that projects $x$ onto the closest hyperplane that we calculated in 10.\n",
    "* 12. We add the minimal perturbation to the image and check if it’s misclassified.\n",
    "* 13–14. Loop variable increased; End Loop ($\\text{loop}_{i}$).\n",
    "* 15. Return the total perturbation, which is a sum over all the calculated perturbations.\n",
    "\n",
    "Alright, let’s now look at two equations:\n",
    "\n",
    "![](deepfool1.png)\n",
    "\n",
    "This is the algorithm that helps you calculate the closest hyperplane given an input $x_{0}$, where, \n",
    "* variables starting with $f$ are the class labels\n",
    "* variables starting with $w$ are the gradients\n",
    "\n",
    "Among them, the variables with $k$ as subscript are for the classes with the most probability after the true class, and the variables with subscript $\\hat{k}_{x_{0}}$ is for the true class. Given an input, it goes among the top classes with the most probability after the true class and calculates and stores the closest hyperplane; this is done in lines 6-10 of the algorithm. And this one:\n",
    "\n",
    "![](deepfool2.png)\n",
    "\n",
    "This is the algorithm that calculates the minimal perturbation needed, i.e. this calculates the projection of the input on the closest hyperplane! This is done in line 11 of the algorithm.\n",
    "\n",
    "And that’s all! "
   ]
  },
  {
   "cell_type": "code",
   "execution_count": 6,
   "metadata": {},
   "outputs": [
    {
     "name": "stdout",
     "output_type": "stream",
     "text": [
      "6\n"
     ]
    }
   ],
   "source": [
    "num_classes=10\n",
    "image_array = x_train[2300]\n",
    "#(1, 28, 28, 1)\n",
    "\n",
    "logits_image = model(image_array.numpy().reshape(-1,28,28,1)) #shape=(1, 10)\n",
    "predictions_image = tf.nn.softmax(logits_image).numpy() #shape=(1, 10)\n",
    "confidence_image = predictions_image.max() * 100\n",
    "class_idx = predictions_image.argmax()\n",
    "\n",
    "I = predictions_image.flatten().argsort()[::-1]\n",
    "I = I[0:num_classes] #choosing the first num_classes elements\n",
    "#array([5, 9, 6, 8, 4, 0, 3, 7, 2, 1])\n",
    "\n",
    "label = I[0] #the first element is our true label\n",
    "print(label)\n",
    "#6"
   ]
  },
  {
   "cell_type": "code",
   "execution_count": 7,
   "metadata": {},
   "outputs": [],
   "source": [
    "overshoot=0.02\n",
    "max_iter = 50\n",
    "\n",
    "input_shape = np.shape(image_array)\n",
    "# (1, 28, 28, 1)\n",
    "\n",
    "# We initialize the perturbed image with the original image ...\n",
    "X_adv = tf.reshape(image_array,(-1,28,28,1))\n",
    "#(1, 28, 28, 1)\n",
    "\n",
    "k_i = label\n",
    "\n",
    "#... and the loop variable.\n",
    "iters = 0\n",
    "\n",
    "w = np.zeros(input_shape)\n",
    "#(1, 28, 28, 1)\n",
    "\n",
    "r_total  = np.zeros(input_shape)\n",
    "#(1, 28, 28, 1)\n",
    "\n",
    "#We start the iteration and continue until the original label and the perturbed label are not equal.\n",
    "while k_i == label and iters < max_iter:\n",
    "    pert = np.inf\n",
    "    \n",
    "    with tf.GradientTape() as tape:\n",
    "        tape.watch(X_adv)\n",
    "        logits = model(X_adv)\n",
    "        val = logits[0, I[0]]\n",
    "    grad_orig = tape.gradient(val, X_adv)  #shape=(1, 28, 28, 1)\n",
    "\n",
    "    # We consider n classes that had the most probability after the original class (In this example, we are using all the classes because number of classes\n",
    "    # is not big but for other datasets, such as ImageNet where num_classes = 10000, we can choose num_classes.)\n",
    "    for k in range(1, num_classes):\n",
    "        with tf.GradientTape() as tape:\n",
    "            tape.watch(X_adv)\n",
    "            logits = model(X_adv)\n",
    "            val = logits[0, I[k]]\n",
    "        cur_grad = tape.gradient(val, X_adv)  #shape=(1, 28, 28, 1)\n",
    "                \n",
    "        w_k = cur_grad - grad_orig\n",
    "        #shape=(1, 28, 28, 1)\n",
    "        \n",
    "        f_k = (logits[0, I[k]] - logits[0, I[0]]).numpy()\n",
    "        \n",
    "        pert_k = abs(f_k) / np.linalg.norm(tf.reshape(w_k, [-1]))\n",
    "        \n",
    "        if pert_k < pert:\n",
    "            pert = pert_k\n",
    "            w = w_k\n",
    "            \n",
    "    r_i = (pert + 1e-4) * w / np.linalg.norm(w) #it is L2 norm\n",
    "    r_total = np.float32(r_total + r_i)\n",
    "\n",
    "    X_adv = image_array + (1 + overshoot) * r_total\n",
    "    \n",
    "    logits = model(X_adv)\n",
    "    k_i = np.argmax(np.array(logits).flatten())\n",
    "    \n",
    "    iters += 1\n",
    "    \n",
    "r_total = (1 + overshoot) * r_total"
   ]
  },
  {
   "cell_type": "code",
   "execution_count": 8,
   "metadata": {},
   "outputs": [],
   "source": [
    "logits_image_adv = model(X_adv) #shape=(1, 10) \n",
    "#you can also use model.predict(X_adv)\n",
    "predictions_image_adv = tf.nn.softmax(logits_image_adv).numpy() #shape=(1, 10)\n",
    "confidence_image_adv = predictions_image_adv.max() * 100\n",
    "class_idx_adv = predictions_image_adv.argmax()"
   ]
  },
  {
   "cell_type": "code",
   "execution_count": 9,
   "metadata": {},
   "outputs": [
    {
     "data": {
      "image/png": "[encoded data removed]",
      "text/plain": [
       "<Figure size 1296x1296 with 3 Axes>"
      ]
     },
     "metadata": {
      "needs_background": "light"
     },
     "output_type": "display_data"
    }
   ],
   "source": [
    "fig, axes = plt.subplots(nrows=1, ncols=3, figsize=(18,18))\n",
    "\n",
    "confidence = str(round(confidence_image,2))\n",
    "pixels = image_array.numpy().reshape((28, 28))\n",
    "axes[0].imshow(pixels, cmap='gray')\n",
    "axes[0].set_axis_off()\n",
    "title = 'Original\\n Predicted: {0} Confidence: {1}'\n",
    "axes[0].set_title(title.format(class_idx, confidence))\n",
    "\n",
    "pixels = r_total[0].reshape((28, 28))\n",
    "axes[1].imshow(pixels, cmap='gray')\n",
    "axes[1].set_axis_off()\n",
    "\n",
    "confidence = str(round(confidence_image_adv,2))\n",
    "pixels = X_adv[0].numpy().reshape((28, 28))\n",
    "axes[2].imshow(pixels, cmap='gray')\n",
    "axes[2].set_axis_off()\n",
    "title = 'Adversarial\\n Predicted: {0} Confidence: {1}'\n",
    "axes[2].set_title(title.format(class_idx_adv, confidence))\n",
    "\n",
    "plt.show()"
   ]
  },
  {
   "cell_type": "code",
   "execution_count": null,
   "metadata": {},
   "outputs": [],
   "source": []
  }
 ],
 "metadata": {
  "kernelspec": {
   "display_name": "Python 3",
   "language": "python",
   "name": "python3"
  },
  "language_info": {
   "codemirror_mode": {
    "name": "ipython",
    "version": 3
   },
   "file_extension": ".py",
   "mimetype": "text/x-python",
   "name": "python",
   "nbconvert_exporter": "python",
   "pygments_lexer": "ipython3",
   "version": "3.7.3"
  }
 },
 "nbformat": 4,
 "nbformat_minor": 4
}
